{
 "cells": [
  {
   "cell_type": "markdown",
   "metadata": {
    "id": "QQxF95ynpTg6"
   },
   "source": [
    "# BERT Question Answering Bot\n"
   ]
  },
  {
   "cell_type": "markdown",
   "metadata": {},
   "source": [
    "## Environment Setup"
   ]
  },
  {
   "cell_type": "code",
   "execution_count": null,
   "metadata": {},
   "outputs": [],
   "source": [
    "import tensorflow as tf\n",
    "import random\n",
    "import torch\n",
    "from torch.utils.data import TensorDataset, DataLoader, RandomSampler, SequentialSampler\n",
    "from keras.preprocessing.sequence import pad_sequences\n",
    "from sklearn.model_selection import train_test_split\n",
    "from pytorch_transformers import BertTokenizer, BertConfig, BertModel, AdamW, BertForQuestionAnswering\n",
    "from tqdm import tqdm, trange\n",
    "import pandas as pd\n",
    "import io\n",
    "import os\n",
    "import numpy as np\n",
    "import matplotlib.pyplot as plt\n",
    "from pytorch_pretrained_bert import BertAdam, BertForSequenceClassification, BertTokenizer, BertConfig\n",
    "from tqdm import tqdm, trange\n",
    "from utils_squad import (read_squad_examples, convert_examples_to_features,\n",
    "                         RawResult, write_predictions,\n",
    "                         RawResultExtended, write_predictions_extended)\n",
    "from utils_squad_evaluate import EVAL_OPTS, main as evaluate_on_squad, plot_pr_curve\n",
    "% matplotlib inline"
   ]
  },
  {
   "cell_type": "code",
   "execution_count": null,
   "metadata": {
    "colab": {
     "base_uri": "https://localhost:8080/"
    },
    "id": "jY7mmcj9pRcW",
    "outputId": "23aac80b-6cdf-42c6-a241-61de495c5eca"
   },
   "outputs": [],
   "source": [
    "device_name = tf.test.gpu_device_name()\n",
    "if device_name != '/device:GPU:0':\n",
    "    raise SystemError('GPU device not found')\n",
    "print('Found GPU at: {}'.format(device_name))\n",
    "\n",
    "device = torch.device(\"cuda\" if torch.cuda.is_available() else \"cpu\")\n",
    "n_gpu = torch.cuda.device_count()\n",
    "torch.cuda.get_device_name(0)"
   ]
  },
  {
   "cell_type": "code",
   "execution_count": null,
   "metadata": {
    "colab": {
     "base_uri": "https://localhost:8080/"
    },
    "id": "Yxu0iAvYsHTK",
    "outputId": "dc185187-f697-4c37-9200-56f962b910d0"
   },
   "outputs": [],
   "source": [
    "# !pip install pytorch-pretrained-bert pytorch-nlp pytorch_transformers"
   ]
  },
  {
   "cell_type": "markdown",
   "metadata": {},
   "source": [
    "## Import Data"
   ]
  },
  {
   "cell_type": "code",
   "execution_count": null,
   "metadata": {
    "id": "zHgpndcloLFp"
   },
   "outputs": [],
   "source": [
    "input_file = '/data/train-v2.0.json'\n",
    "examples_train = read_squad_examples(input_file=input_file,\n",
    "                                is_training=True,\n",
    "                                version_2_with_negative=True)"
   ]
  },
  {
   "cell_type": "code",
   "execution_count": null,
   "metadata": {
    "colab": {
     "base_uri": "https://localhost:8080/",
     "height": 544
    },
    "id": "TWRV-Q10qrIM",
    "outputId": "889f1079-20a9-4e71-dca6-55a9dc1bb375"
   },
   "outputs": [],
   "source": [
    "train_data = pd.DataFrame.from_records([vars(ex) for ex in examples_train])\n",
    "train_data.head()"
   ]
  },
  {
   "cell_type": "code",
   "execution_count": null,
   "metadata": {
    "colab": {
     "base_uri": "https://localhost:8080/",
     "height": 889
    },
    "id": "cNVta-8TrNN8",
    "outputId": "77b534b5-c1a1-45d9-d1d0-cfb283fc2cea"
   },
   "outputs": [],
   "source": [
    "sample = train_data.sample(frac=1).head(1)\n",
    "context = sample.doc_tokens.values\n",
    "train_data[train_data.doc_tokens.values==context]"
   ]
  },
  {
   "cell_type": "code",
   "execution_count": null,
   "metadata": {
    "colab": {
     "base_uri": "https://localhost:8080/"
    },
    "id": "zU4S6x0YnnPT",
    "outputId": "8296b3d0-eb46-4624-f154-0681a0875c6d"
   },
   "outputs": [],
   "source": [
    "from utils_preprocess import print_squad_sample\n",
    "print_squad_sample(train_data)"
   ]
  },
  {
   "cell_type": "code",
   "execution_count": null,
   "metadata": {
    "colab": {
     "base_uri": "https://localhost:8080/",
     "height": 479
    },
    "id": "H3yDIGj8t1_M",
    "outputId": "54520718-88b4-4ba4-9d92-d9377594f343"
   },
   "outputs": [],
   "source": [
    "train_data['paragraph_len'] = train_data['doc_tokens'].apply(len)\n",
    "train_data['question_len'] = train_data['question_text'].apply(len)\n",
    "train_data.sample(frac=1).head(5)"
   ]
  },
  {
   "cell_type": "markdown",
   "metadata": {},
   "source": [
    "## Preprocessing"
   ]
  },
  {
   "cell_type": "code",
   "execution_count": null,
   "metadata": {
    "id": "zywEw_BZtx5l"
   },
   "outputs": [],
   "source": [
    "# Specify tokenizer\n",
    "# tokenizer = BertTokenizer.from_pretrained('bert-large-uncased-whole-word-masking-finetuned-squad')\n",
    "tokenizer = BertTokenizer.from_pretrained('bert-base-uncased')"
   ]
  },
  {
   "cell_type": "code",
   "execution_count": null,
   "metadata": {
    "id": "_Dj9SoVnuSh2"
   },
   "outputs": [],
   "source": [
    "doc_stride = 128\n",
    "max_seq_length = 256\n",
    "max_query_length = 64\n",
    "batch_size = 16"
   ]
  },
  {
   "cell_type": "code",
   "execution_count": null,
   "metadata": {
    "id": "DS2oM0q3pdni"
   },
   "outputs": [],
   "source": [
    "if not os.path.exists('cache'):\n",
    "    os.makedirs('cache')\n",
    "cached_features_file = '/cache/cache_train'"
   ]
  },
  {
   "cell_type": "code",
   "execution_count": null,
   "metadata": {
    "id": "OxXiC4G2uUwa"
   },
   "outputs": [],
   "source": [
    "from utils_preprocess import create_features\n",
    "features_train = create_features(cached_features_file = cached_features_file,\n",
    "                           examples=examples_train,\n",
    "                           tokenizer=tokenizer,\n",
    "                           max_seq_length=max_seq_length,\n",
    "                           doc_stride=doc_stride,\n",
    "                           max_query_length=max_query_length,\n",
    "                           is_training=True)\n"
   ]
  },
  {
   "cell_type": "code",
   "execution_count": null,
   "metadata": {
    "id": "KqKRwvvjuW1I"
   },
   "outputs": [],
   "source": [
    "def set_seed(seed=42):\n",
    "    np.random.seed(seed)\n",
    "    torch.manual_seed(seed)\n",
    "    torch.cuda.manual_seed_all(seed)\n",
    "    \n",
    "def to_list(tensor):\n",
    "    return tensor.detach().cpu().tolist()"
   ]
  },
  {
   "cell_type": "code",
   "execution_count": null,
   "metadata": {
    "id": "Q8wpGNktunPQ"
   },
   "outputs": [],
   "source": [
    "# Build training data\n",
    "from utils_preprocess import generate_bert_loader_train\n",
    "train_dataloader, len_train = generate_bert_loader_train(features_train, batch_size=batch_size, drop_last=True)"
   ]
  },
  {
   "cell_type": "markdown",
   "metadata": {},
   "source": [
    "## Fine-Tune Model"
   ]
  },
  {
   "cell_type": "code",
   "execution_count": null,
   "metadata": {
    "colab": {
     "base_uri": "https://localhost:8080/"
    },
    "id": "d06HFmPmu3Yq",
    "outputId": "45bd1d76-1c76-4b4b-a17c-39f6c167cf89"
   },
   "outputs": [],
   "source": [
    "# Specify architecture for output layer and whether to freeze bert parameters\n",
    "from models import bert_mod\n",
    "bert = bert_mod('bert-base-uncased')\n",
    "bert.freeze_param()\n",
    "model = bert.bert_linear_linear()\n",
    "\n",
    "# print out model architecture\n",
    "model.cuda()"
   ]
  },
  {
   "cell_type": "code",
   "execution_count": null,
   "metadata": {
    "colab": {
     "base_uri": "https://localhost:8080/"
    },
    "id": "_t19YTyEu5V4",
    "outputId": "a28f912b-1c4f-47c4-c111-d5103a432f93"
   },
   "outputs": [],
   "source": [
    "# Print out parameters for output layer\n",
    "# param_optimizer = list(model.named_parameters())\n",
    "# print(param_optimizer[-2])\n",
    "# print(param_optimizer[-1])"
   ]
  },
  {
   "cell_type": "code",
   "execution_count": null,
   "metadata": {
    "id": "9alnEO5Uu7jm"
   },
   "outputs": [],
   "source": [
    "global_step = 0\n",
    "train_loss_set = []\n",
    "tr_loss = 0.0\n",
    "learning_rate = 5e-5\n",
    "adam_epsilon=1e-8\n",
    "no_decay = ['bias', 'LayerNorm.weight']\n",
    "optimizer_grouped_parameters = [\n",
    "    {'params': [p for n, p in model.named_parameters() if not any(nd in n for nd in no_decay)], 'weight_decay': 0.1},\n",
    "    {'params': [p for n, p in model.named_parameters() if any(nd in n for nd in no_decay)], 'weight_decay': 0.1}\n",
    "    ]\n",
    "optimizer = AdamW(optimizer_grouped_parameters, lr=learning_rate, eps=adam_epsilon,betas=(0.9,0.999))"
   ]
  },
  {
   "cell_type": "code",
   "execution_count": null,
   "metadata": {
    "colab": {
     "base_uri": "https://localhost:8080/"
    },
    "id": "XGwiPd3ju9A1",
    "outputId": "52b54440-9d62-4169-ea0a-7ae06868ad80"
   },
   "outputs": [],
   "source": [
    "num_train_epochs = 1\n",
    "\n",
    "print(\"***** Running training *****\")\n",
    "print(\"  Num examples = %d\" % len_train)\n",
    "print(\"  Num Epochs = %d\" % num_train_epochs)\n",
    "print(\"  Batch size = %d\" % batch_size)\n",
    "print(\"  Total optimization steps = %d\" % (len(train_dataloader) // num_train_epochs))\n",
    "\n",
    "model.zero_grad()\n",
    "train_iterator = trange(num_train_epochs, desc=\"Epoch\")\n",
    "set_seed()\n",
    "\n",
    "for _ in train_iterator:\n",
    "    epoch_iterator = tqdm(train_dataloader,desc=\"iterations\",disable=False,position=0, leave=True)\n",
    "    for step, batch in enumerate(epoch_iterator):\n",
    "        if step < int(global_step) + 1:\n",
    "            continue\n",
    "\n",
    "        model.train()\n",
    "        batch = tuple(t.to(device) for t in batch)\n",
    "        inputs = {'input_ids':       batch[0],\n",
    "                'attention_mask':  batch[1], \n",
    "                'token_type_ids':  batch[2],  \n",
    "                'start_positions': batch[3], \n",
    "                'end_positions':   batch[4]}\n",
    "\n",
    "        outputs = model(**inputs)\n",
    "        loss = outputs[0]\n",
    "        train_loss_set.append(loss)\n",
    "        loss.backward()\n",
    "        torch.nn.utils.clip_grad_norm_(model.parameters(), 1.0)\n",
    "        tr_loss += loss.item()\n",
    "        optimizer.step()\n",
    "        model.zero_grad()\n",
    "        global_step += 1\n"
   ]
  },
  {
   "cell_type": "code",
   "execution_count": null,
   "metadata": {
    "id": "-z2GxIeN1vqa"
   },
   "outputs": [],
   "source": [
    "# Plot training loss\n",
    "plt.figure(figsize=(15,8))\n",
    "plt.title(\"Training loss\")\n",
    "plt.xlabel(\"Batch\")\n",
    "plt.ylabel(\"Loss\")\n",
    "plt.plot(train_loss_set)\n",
    "plt.show()"
   ]
  },
  {
   "cell_type": "markdown",
   "metadata": {},
   "source": [
    "## Evaluate Result"
   ]
  },
  {
   "cell_type": "code",
   "execution_count": null,
   "metadata": {
    "id": "TglKsny312Oh"
   },
   "outputs": [],
   "source": [
    "path_val = '/data/dev-v2.0.json'\n",
    "examples_val = read_squad_examples(input_file=path_val,\n",
    "                                is_training=False,\n",
    "                                version_2_with_negative=True)\n",
    "doc_stride = 128\n",
    "max_seq_length = 256\n",
    "max_query_length = 64\n",
    "cached_features_file = '/cache/cache_validation'\n",
    "\n",
    "# Cache features\n",
    "features_val = create_features(cached_features_file=cached_features_file,\n",
    "                                    examples=examples_val,\n",
    "                                    tokenizer=tokenizer,\n",
    "                                    max_seq_length=max_seq_length,\n",
    "                                    doc_stride=doc_stride,\n",
    "                                    max_query_length=max_query_length,\n",
    "                                    is_training=False)\n"
   ]
  },
  {
   "cell_type": "code",
   "execution_count": null,
   "metadata": {
    "id": "JLdGjs5G2V5O"
   },
   "outputs": [],
   "source": [
    "from utils_preprocess import generate_bert_loader_validation\n",
    "validation_dataloader, len_val = generate_bert_loader_validation(features_val, batch_size=batch_size, drop_last=True)"
   ]
  },
  {
   "cell_type": "code",
   "execution_count": null,
   "metadata": {
    "id": "ROJlB2Np2iTo"
   },
   "outputs": [],
   "source": [
    "predict_file = '/data/dev-v2.0.json'\n",
    "from evaluate import evaluate\n",
    "results = evaluate(model, \n",
    "                   validation_dataloader, \n",
    "                   features_val,\n",
    "                   examples_val,\n",
    "                   tokenizer, \n",
    "                   path_val, \n",
    "                   len_val, \n",
    "                   batch_size,\n",
    "                   device)"
   ]
  },
  {
   "cell_type": "code",
   "execution_count": null,
   "metadata": {
    "id": "y4_tXFnX2mge"
   },
   "outputs": [],
   "source": [
    "import json\n",
    "results_json = []\n",
    "for k in enumerate(results.keys()):\n",
    "    result_dict = {k[1] : results[k[1]]}\n",
    "    results_json.append(result_dict)\n",
    "print(results_json)\n",
    "with open('results.json', 'w') as f:\n",
    "    json.dump(results_json, f)"
   ]
  },
  {
   "cell_type": "code",
   "execution_count": null,
   "metadata": {
    "id": "-M-L4ela-liv"
   },
   "outputs": [],
   "source": []
  }
 ],
 "metadata": {
  "accelerator": "GPU",
  "colab": {
   "collapsed_sections": [],
   "machine_shape": "hm",
   "name": "Copy of BERT_Tutorial_How_To_Build_a_Question_Answering_Bot.ipynb",
   "provenance": [],
   "toc_visible": true
  },
  "kernelspec": {
   "display_name": "Python 3",
   "language": "python",
   "name": "python3"
  },
  "language_info": {
   "codemirror_mode": {
    "name": "ipython",
    "version": 3
   },
   "file_extension": ".py",
   "mimetype": "text/x-python",
   "name": "python",
   "nbconvert_exporter": "python",
   "pygments_lexer": "ipython3",
   "version": "3.8.1"
  }
 },
 "nbformat": 4,
 "nbformat_minor": 1
}
